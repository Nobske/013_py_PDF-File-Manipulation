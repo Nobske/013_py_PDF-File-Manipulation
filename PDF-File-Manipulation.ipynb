{
 "cells": [
  {
   "cell_type": "markdown",
   "metadata": {},
   "source": [
    "# PDF FILE MANIPULATION\n",
    "# Credit goes to Dr. Ryan @STEMplicity\n",
    "\n",
    "\n",
    "\n"
   ]
  },
  {
   "cell_type": "markdown",
   "metadata": {},
   "source": [
    "- Please install PyPDF2 which is a common python library to work with PDF files.\n",
    "- The library can be used to read text from PDF files\n",
    "- You can install the library as follows:\n",
    "pip install PyPDF2\n"
   ]
  },
  {
   "cell_type": "markdown",
   "metadata": {},
   "source": [
    "# Overview:"
   ]
  },
  {
   "cell_type": "markdown",
   "metadata": {},
   "source": [
    "# 1.) How to read a PDF\n",
    "# 2.) Copy a single PDF and put this into a newly created PDF\n",
    "# 3.) Rotate PDFs and write them to a new PDF\n",
    "# 4.) Read multiple pages\n",
    "# 5.) Merge two PDFs"
   ]
  },
  {
   "cell_type": "markdown",
   "metadata": {},
   "source": [
    "---------------------------------------------------"
   ]
  },
  {
   "cell_type": "markdown",
   "metadata": {},
   "source": [
    "# 1.) How to read a PDF"
   ]
  },
  {
   "cell_type": "code",
   "execution_count": 2,
   "metadata": {},
   "outputs": [],
   "source": [
    "from PyPDF2 import PdfFileWriter, PdfFileReader"
   ]
  },
  {
   "cell_type": "code",
   "execution_count": 3,
   "metadata": {},
   "outputs": [],
   "source": [
    "f = open('Harvard_Business_School.pdf', 'rb') # rb is for reading in binary file"
   ]
  },
  {
   "cell_type": "code",
   "execution_count": 7,
   "metadata": {},
   "outputs": [],
   "source": [
    "# Create a PDF reader object\n",
    "read_pdf = PdfFileReader(f)"
   ]
  },
  {
   "cell_type": "code",
   "execution_count": 12,
   "metadata": {},
   "outputs": [
    {
     "data": {
      "text/plain": [
       "{'/Author': 'Barlow, Andrew Jonathan',\n",
       " '/Company': 'Harvard University',\n",
       " '/CreationDate': \"D:20180817171357-04'00'\",\n",
       " '/Creator': 'Acrobat PDFMaker 18 for Word',\n",
       " '/ModDate': \"D:20180817171437-04'00'\",\n",
       " '/Producer': 'Adobe PDF Library 15.0',\n",
       " '/SourceModified': 'D:20180817211351',\n",
       " '/Title': 'I'}"
      ]
     },
     "execution_count": 12,
     "metadata": {},
     "output_type": "execute_result"
    }
   ],
   "source": [
    "read_pdf.documentInfo"
   ]
  },
  {
   "cell_type": "code",
   "execution_count": 10,
   "metadata": {},
   "outputs": [
    {
     "data": {
      "text/plain": [
       "{'/Author': 'Barlow, Andrew Jonathan',\n",
       " '/Company': 'Harvard University',\n",
       " '/CreationDate': \"D:20180817171357-04'00'\",\n",
       " '/Creator': 'Acrobat PDFMaker 18 for Word',\n",
       " '/ModDate': \"D:20180817171437-04'00'\",\n",
       " '/Producer': 'Adobe PDF Library 15.0',\n",
       " '/SourceModified': 'D:20180817211351',\n",
       " '/Title': 'I'}"
      ]
     },
     "execution_count": 10,
     "metadata": {},
     "output_type": "execute_result"
    }
   ],
   "source": [
    "read_pdf.getDocumentInfo()"
   ]
  },
  {
   "cell_type": "code",
   "execution_count": 13,
   "metadata": {},
   "outputs": [
    {
     "data": {
      "text/plain": [
       "8"
      ]
     },
     "execution_count": 13,
     "metadata": {},
     "output_type": "execute_result"
    }
   ],
   "source": [
    "read_pdf.numPages"
   ]
  },
  {
   "cell_type": "code",
   "execution_count": 17,
   "metadata": {},
   "outputs": [
    {
     "data": {
      "text/plain": [
       "8"
      ]
     },
     "execution_count": 17,
     "metadata": {},
     "output_type": "execute_result"
    }
   ],
   "source": [
    "# apply the Number of pages attribute method to get the number of pages\n",
    "read_pdf.getNumPages()"
   ]
  },
  {
   "cell_type": "code",
   "execution_count": 18,
   "metadata": {},
   "outputs": [
    {
     "data": {
      "text/plain": [
       "False"
      ]
     },
     "execution_count": 18,
     "metadata": {},
     "output_type": "execute_result"
    }
   ],
   "source": [
    "read_pdf.getIsEncrypted()"
   ]
  },
  {
   "cell_type": "code",
   "execution_count": 24,
   "metadata": {},
   "outputs": [
    {
     "data": {
      "text/plain": [
       "{'/ArtBox': [0, 0, 612, 792],\n",
       " '/BleedBox': [0, 0, 612, 792],\n",
       " '/Contents': [IndirectObject(387, 0),\n",
       "  IndirectObject(388, 0),\n",
       "  IndirectObject(389, 0),\n",
       "  IndirectObject(390, 0),\n",
       "  IndirectObject(391, 0),\n",
       "  IndirectObject(392, 0),\n",
       "  IndirectObject(393, 0),\n",
       "  IndirectObject(394, 0)],\n",
       " '/CropBox': [0, 0, 612, 792],\n",
       " '/MediaBox': [0, 0, 612, 792],\n",
       " '/Parent': {'/Count': 8,\n",
       "  '/Kids': [IndirectObject(374, 0),\n",
       "   IndirectObject(350, 0),\n",
       "   IndirectObject(301, 0),\n",
       "   IndirectObject(1, 0),\n",
       "   IndirectObject(6, 0),\n",
       "   IndirectObject(9, 0),\n",
       "   IndirectObject(12, 0),\n",
       "   IndirectObject(15, 0)],\n",
       "  '/Type': '/Pages'},\n",
       " '/Resources': {'/ExtGState': {'/GS0': {'/AIS': <PyPDF2.generic.BooleanObject at 0x29c800cf7b8>,\n",
       "    '/BM': '/Normal',\n",
       "    '/CA': 1,\n",
       "    '/OP': <PyPDF2.generic.BooleanObject at 0x29c81dce630>,\n",
       "    '/OPM': 1,\n",
       "    '/SA': <PyPDF2.generic.BooleanObject at 0x29c81da5160>,\n",
       "    '/SMask': '/None',\n",
       "    '/Type': '/ExtGState',\n",
       "    '/ca': 1,\n",
       "    '/op': <PyPDF2.generic.BooleanObject at 0x29c81da59e8>},\n",
       "   '/GS1': {'/AIS': <PyPDF2.generic.BooleanObject at 0x29c8031e0b8>,\n",
       "    '/BM': '/Normal',\n",
       "    '/CA': 1,\n",
       "    '/OP': <PyPDF2.generic.BooleanObject at 0x29c81da5208>,\n",
       "    '/OPM': 1,\n",
       "    '/SA': <PyPDF2.generic.BooleanObject at 0x29c81e0be80>,\n",
       "    '/SMask': '/None',\n",
       "    '/Type': '/ExtGState',\n",
       "    '/ca': 1,\n",
       "    '/op': <PyPDF2.generic.BooleanObject at 0x29c81e0b550>}},\n",
       "  '/Font': {'/T1_0': {'/BaseFont': '/TXDFTZ+MyriadPro-BoldIt',\n",
       "    '/Encoding': '/WinAnsiEncoding',\n",
       "    '/FirstChar': 32,\n",
       "    '/FontDescriptor': {'/Ascent': 987,\n",
       "     '/CapHeight': 674,\n",
       "     '/CharSet': '/space/R/S/U/a/c/d/e/g/i/n/o/r/s/t/u',\n",
       "     '/Descent': -250,\n",
       "     '/Flags': 96,\n",
       "     '/FontBBox': [-201, -250, 1225, 987],\n",
       "     '/FontFamily': 'Myriad Pro',\n",
       "     '/FontFile3': {'/Filter': '/FlateDecode', '/Subtype': '/Type1C'},\n",
       "     '/FontName': '/TXDFTZ+MyriadPro-BoldIt',\n",
       "     '/FontStretch': '/Normal',\n",
       "     '/FontWeight': 700,\n",
       "     '/ItalicAngle': -11,\n",
       "     '/StemV': 144,\n",
       "     '/Type': '/FontDescriptor',\n",
       "     '/XHeight': 489},\n",
       "    '/LastChar': 117,\n",
       "    '/Subtype': '/Type1',\n",
       "    '/ToUnicode': {'/Filter': '/FlateDecode'},\n",
       "    '/Type': '/Font',\n",
       "    '/Widths': [184,\n",
       "     0,\n",
       "     0,\n",
       "     0,\n",
       "     0,\n",
       "     0,\n",
       "     0,\n",
       "     0,\n",
       "     0,\n",
       "     0,\n",
       "     0,\n",
       "     0,\n",
       "     0,\n",
       "     0,\n",
       "     0,\n",
       "     0,\n",
       "     0,\n",
       "     0,\n",
       "     0,\n",
       "     0,\n",
       "     0,\n",
       "     0,\n",
       "     0,\n",
       "     0,\n",
       "     0,\n",
       "     0,\n",
       "     0,\n",
       "     0,\n",
       "     0,\n",
       "     0,\n",
       "     0,\n",
       "     0,\n",
       "     0,\n",
       "     0,\n",
       "     0,\n",
       "     0,\n",
       "     0,\n",
       "     0,\n",
       "     0,\n",
       "     0,\n",
       "     0,\n",
       "     0,\n",
       "     0,\n",
       "     0,\n",
       "     0,\n",
       "     0,\n",
       "     0,\n",
       "     0,\n",
       "     0,\n",
       "     0,\n",
       "     583,\n",
       "     510,\n",
       "     0,\n",
       "     655,\n",
       "     0,\n",
       "     0,\n",
       "     0,\n",
       "     0,\n",
       "     0,\n",
       "     0,\n",
       "     0,\n",
       "     0,\n",
       "     0,\n",
       "     0,\n",
       "     0,\n",
       "     554,\n",
       "     0,\n",
       "     435,\n",
       "     560,\n",
       "     501,\n",
       "     0,\n",
       "     558,\n",
       "     0,\n",
       "     265,\n",
       "     0,\n",
       "     0,\n",
       "     0,\n",
       "     0,\n",
       "     563,\n",
       "     559,\n",
       "     0,\n",
       "     0,\n",
       "     370,\n",
       "     416,\n",
       "     348,\n",
       "     560]},\n",
       "   '/T1_1': {'/BaseFont': '/TXDFTZ+MyriadPro-Semibold',\n",
       "    '/Encoding': {'/BaseEncoding': '/WinAnsiEncoding',\n",
       "     '/Differences': [31, '/f_f_i'],\n",
       "     '/Type': '/Encoding'},\n",
       "    '/FirstChar': 31,\n",
       "    '/FontDescriptor': {'/Ascent': 972,\n",
       "     '/CapHeight': 674,\n",
       "     '/CharSet': '/f_f_i/space/period/one/two/four/five/six/seven/nine/A/C/D/F/H/O/S/U/a/c/d/e/f/h/i/l/n/o/r/s/t/u/v/w/y/bar',\n",
       "     '/Descent': -250,\n",
       "     '/Flags': 32,\n",
       "     '/FontBBox': [-161, -250, 1198, 972],\n",
       "     '/FontFamily': 'Myriad Pro Light',\n",
       "     '/FontFile3': {'/Filter': '/FlateDecode', '/Subtype': '/Type1C'},\n",
       "     '/FontName': '/TXDFTZ+MyriadPro-Semibold',\n",
       "     '/FontStretch': '/Normal',\n",
       "     '/FontWeight': 700,\n",
       "     '/ItalicAngle': 0,\n",
       "     '/StemV': 124,\n",
       "     '/Type': '/FontDescriptor',\n",
       "     '/XHeight': 487},\n",
       "    '/LastChar': 124,\n",
       "    '/Subtype': '/Type1',\n",
       "    '/ToUnicode': {'/Filter': '/FlateDecode'},\n",
       "    '/Type': '/Font',\n",
       "    '/Widths': [861,\n",
       "     207,\n",
       "     0,\n",
       "     0,\n",
       "     0,\n",
       "     0,\n",
       "     0,\n",
       "     0,\n",
       "     0,\n",
       "     0,\n",
       "     0,\n",
       "     0,\n",
       "     0,\n",
       "     0,\n",
       "     0,\n",
       "     236,\n",
       "     0,\n",
       "     0,\n",
       "     536,\n",
       "     536,\n",
       "     0,\n",
       "     536,\n",
       "     536,\n",
       "     536,\n",
       "     536,\n",
       "     0,\n",
       "     536,\n",
       "     0,\n",
       "     0,\n",
       "     0,\n",
       "     0,\n",
       "     0,\n",
       "     0,\n",
       "     0,\n",
       "     636,\n",
       "     0,\n",
       "     588,\n",
       "     683,\n",
       "     0,\n",
       "     509,\n",
       "     0,\n",
       "     672,\n",
       "     0,\n",
       "     0,\n",
       "     0,\n",
       "     0,\n",
       "     0,\n",
       "     0,\n",
       "     704,\n",
       "     0,\n",
       "     0,\n",
       "     0,\n",
       "     519,\n",
       "     0,\n",
       "     666,\n",
       "     0,\n",
       "     0,\n",
       "     0,\n",
       "     0,\n",
       "     0,\n",
       "     0,\n",
       "     0,\n",
       "     0,\n",
       "     0,\n",
       "     0,\n",
       "     0,\n",
       "     508,\n",
       "     0,\n",
       "     449,\n",
       "     581,\n",
       "     516,\n",
       "     319,\n",
       "     0,\n",
       "     572,\n",
       "     256,\n",
       "     0,\n",
       "     0,\n",
       "     257,\n",
       "     0,\n",
       "     572,\n",
       "     564,\n",
       "     0,\n",
       "     0,\n",
       "     356,\n",
       "     417,\n",
       "     351,\n",
       "     569,\n",
       "     508,\n",
       "     749,\n",
       "     0,\n",
       "     500,\n",
       "     0,\n",
       "     0,\n",
       "     263]},\n",
       "   '/T1_2': {'/BaseFont': '/TXDFTZ+MyriadPro-Bold',\n",
       "    '/Encoding': '/WinAnsiEncoding',\n",
       "    '/FirstChar': 32,\n",
       "    '/FontDescriptor': {'/Ascent': 989,\n",
       "     '/CapHeight': 674,\n",
       "     '/CharSet': '/space/A/B/C/E/G/H/I/L/N/O/P/S/T/U/Y',\n",
       "     '/Descent': -250,\n",
       "     '/Flags': 32,\n",
       "     '/FontBBox': [-163, -250, 1256, 989],\n",
       "     '/FontFamily': 'Myriad Pro',\n",
       "     '/FontFile3': {'/Filter': '/FlateDecode', '/Subtype': '/Type1C'},\n",
       "     '/FontName': '/TXDFTZ+MyriadPro-Bold',\n",
       "     '/FontStretch': '/Normal',\n",
       "     '/FontWeight': 700,\n",
       "     '/ItalicAngle': 0,\n",
       "     '/StemV': 152,\n",
       "     '/Type': '/FontDescriptor',\n",
       "     '/XHeight': 489},\n",
       "    '/LastChar': 89,\n",
       "    '/Subtype': '/Type1',\n",
       "    '/ToUnicode': {'/Filter': '/FlateDecode'},\n",
       "    '/Type': '/Font',\n",
       "    '/Widths': [202,\n",
       "     0,\n",
       "     0,\n",
       "     0,\n",
       "     0,\n",
       "     0,\n",
       "     0,\n",
       "     0,\n",
       "     0,\n",
       "     0,\n",
       "     0,\n",
       "     0,\n",
       "     0,\n",
       "     0,\n",
       "     0,\n",
       "     0,\n",
       "     0,\n",
       "     0,\n",
       "     0,\n",
       "     0,\n",
       "     0,\n",
       "     0,\n",
       "     0,\n",
       "     0,\n",
       "     0,\n",
       "     0,\n",
       "     0,\n",
       "     0,\n",
       "     0,\n",
       "     0,\n",
       "     0,\n",
       "     0,\n",
       "     0,\n",
       "     656,\n",
       "     604,\n",
       "     595,\n",
       "     0,\n",
       "     534,\n",
       "     0,\n",
       "     682,\n",
       "     689,\n",
       "     285,\n",
       "     0,\n",
       "     0,\n",
       "     511,\n",
       "     0,\n",
       "     690,\n",
       "     717,\n",
       "     581,\n",
       "     0,\n",
       "     0,\n",
       "     540,\n",
       "     548,\n",
       "     682,\n",
       "     0,\n",
       "     0,\n",
       "     0,\n",
       "     603]},\n",
       "   '/T1_3': {'/BaseFont': '/TXDFTZ+MyriadPro-Regular',\n",
       "    '/Encoding': {'/BaseEncoding': '/WinAnsiEncoding',\n",
       "     '/Differences': [31, '/f_f_i'],\n",
       "     '/Type': '/Encoding'},\n",
       "    '/FirstChar': 31,\n",
       "    '/FontDescriptor': {'/Ascent': 952,\n",
       "     '/CapHeight': 674,\n",
       "     '/CharSet': '/f_f_i/space/ampersand/parenleft/parenright/comma/hyphen/period/slash/zero/one/two/three/four/five/six/seven/eight/nine/colon/A/C/F/H/M/N/O/P/S/U/a/b/c/d/e/f/g/h/i/l/m/n/o/p/r/s/t/u/v/w/x/y/copyright',\n",
       "     '/Descent': -250,\n",
       "     '/Flags': 32,\n",
       "     '/FontBBox': [-157, -250, 1126, 952],\n",
       "     '/FontFamily': 'Myriad Pro',\n",
       "     '/FontFile3': {'/Filter': '/FlateDecode', '/Subtype': '/Type1C'},\n",
       "     '/FontName': '/TXDFTZ+MyriadPro-Regular',\n",
       "     '/FontStretch': '/Normal',\n",
       "     '/FontWeight': 400,\n",
       "     '/ItalicAngle': 0,\n",
       "     '/StemV': 88,\n",
       "     '/Type': '/FontDescriptor',\n",
       "     '/XHeight': 484},\n",
       "    '/LastChar': 169,\n",
       "    '/Subtype': '/Type1',\n",
       "    '/ToUnicode': {'/Filter': '/FlateDecode'},\n",
       "    '/Type': '/Font',\n",
       "    '/Widths': [815,\n",
       "     212,\n",
       "     0,\n",
       "     0,\n",
       "     0,\n",
       "     0,\n",
       "     0,\n",
       "     605,\n",
       "     0,\n",
       "     284,\n",
       "     284,\n",
       "     0,\n",
       "     0,\n",
       "     207,\n",
       "     307,\n",
       "     207,\n",
       "     343,\n",
       "     513,\n",
       "     513,\n",
       "     513,\n",
       "     513,\n",
       "     513,\n",
       "     513,\n",
       "     513,\n",
       "     513,\n",
       "     513,\n",
       "     513,\n",
       "     207,\n",
       "     0,\n",
       "     0,\n",
       "     0,\n",
       "     0,\n",
       "     0,\n",
       "     0,\n",
       "     612,\n",
       "     0,\n",
       "     580,\n",
       "     0,\n",
       "     0,\n",
       "     487,\n",
       "     0,\n",
       "     652,\n",
       "     0,\n",
       "     0,\n",
       "     0,\n",
       "     0,\n",
       "     804,\n",
       "     658,\n",
       "     689,\n",
       "     532,\n",
       "     0,\n",
       "     0,\n",
       "     493,\n",
       "     0,\n",
       "     647,\n",
       "     0,\n",
       "     0,\n",
       "     0,\n",
       "     0,\n",
       "     0,\n",
       "     0,\n",
       "     0,\n",
       "     0,\n",
       "     0,\n",
       "     0,\n",
       "     0,\n",
       "     482,\n",
       "     569,\n",
       "     448,\n",
       "     564,\n",
       "     501,\n",
       "     292,\n",
       "     559,\n",
       "     555,\n",
       "     234,\n",
       "     0,\n",
       "     0,\n",
       "     236,\n",
       "     834,\n",
       "     555,\n",
       "     549,\n",
       "     569,\n",
       "     0,\n",
       "     327,\n",
       "     396,\n",
       "     331,\n",
       "     551,\n",
       "     481,\n",
       "     736,\n",
       "     463,\n",
       "     471,\n",
       "     0,\n",
       "     0,\n",
       "     0,\n",
       "     0,\n",
       "     0,\n",
       "     0,\n",
       "     0,\n",
       "     0,\n",
       "     0,\n",
       "     0,\n",
       "     0,\n",
       "     0,\n",
       "     0,\n",
       "     0,\n",
       "     0,\n",
       "     0,\n",
       "     0,\n",
       "     0,\n",
       "     0,\n",
       "     0,\n",
       "     0,\n",
       "     0,\n",
       "     0,\n",
       "     0,\n",
       "     0,\n",
       "     0,\n",
       "     0,\n",
       "     0,\n",
       "     0,\n",
       "     0,\n",
       "     0,\n",
       "     0,\n",
       "     0,\n",
       "     0,\n",
       "     0,\n",
       "     0,\n",
       "     0,\n",
       "     0,\n",
       "     0,\n",
       "     0,\n",
       "     0,\n",
       "     0,\n",
       "     0,\n",
       "     0,\n",
       "     0,\n",
       "     0,\n",
       "     0,\n",
       "     677]}},\n",
       "  '/ProcSet': ['/PDF', '/Text', '/ImageB'],\n",
       "  '/XObject': {'/Im0': {'/BitsPerComponent': 8,\n",
       "    '/ColorSpace': '/DeviceGray',\n",
       "    '/Filter': '/DCTDecode',\n",
       "    '/Height': 833,\n",
       "    '/Intent': '/RelativeColorimetric',\n",
       "    '/Metadata': {'/Subtype': '/XML', '/Type': '/Metadata'},\n",
       "    '/Name': '/X',\n",
       "    '/Subtype': '/Image',\n",
       "    '/Type': '/XObject',\n",
       "    '/Width': 1199}}},\n",
       " '/Rotate': 0,\n",
       " '/StructParents': 13,\n",
       " '/TrimBox': [0, 0, 612, 792],\n",
       " '/Type': '/Page'}"
      ]
     },
     "execution_count": 24,
     "metadata": {},
     "output_type": "execute_result"
    }
   ],
   "source": [
    "read_pdf.getPage(0)"
   ]
  },
  {
   "cell_type": "code",
   "execution_count": null,
   "metadata": {},
   "outputs": [],
   "source": []
  },
  {
   "cell_type": "code",
   "execution_count": 25,
   "metadata": {},
   "outputs": [],
   "source": [
    "# Grab any page \n",
    "sample_page_text = read_pdf.getPage(2).extractText()"
   ]
  },
  {
   "cell_type": "code",
   "execution_count": 26,
   "metadata": {},
   "outputs": [
    {
     "data": {
      "text/plain": [
       "'IS \\nBUSINESS \\nSCHOOL \\nRIGHT FOR \\nYOU?\\n Graduates of \\nMBA \\nprograms can be found in almost any type of organization. Business school will \\nprepare you to create or lead an organization, manage resources, develop effective operational \\nstrategies, and more. \\nOnce \\nadmitted, r\\nequired coursework typically include\\ns: Organizational \\nBehavior, Marketing, Accounting, Finance, Strategy\\n, \\nand Operations Management. This is followed \\nby elective coursework that allows the student to customize their experience. Some students \\n\\ncon\\nsider an MBA as essential for advancement to a management role while others will use it as a \\n\\nmeans to change careers. As an undergraduate student, it is unlikely that you will be admitted to \\n\\nenter directly into an MBA program without first working for a fe\\nw years. This period of \\n\\nemployment will give you time to think about your long term goals and help you determine if a \\n\\ngraduate degree is appropriate.\\n Informational \\nmeetings\\n Talking with\\n people (with or without MBAs) currently working in\\n field\\ns that inter\\nest you\\n can be \\nextremely helpful as you consider your \\nfuture career \\noptions.\\n Be sure to ask:\\n How is an \\nMBA viewed by the industry\\n?Will an MBA improve your chances of being hired and moving ahead\\n?If that person has an MBA, ask about their experience in the program they attended\\nWhat was most helpful for you as you prepared your application?\\nYour conversation can help you put into context how applicable the program will be to your career \\n\\ngoals. Also, speak with current students or those who have recently \\ncompleted an MBA program. \\nInquire about their experience in the program and how it has i\\nmpact\\ned their careers.\\n What should you do to prepare for business school?\\n There™s no magic formula for\\n the perfect undergraduate conce\\nntration\\n, set of academic \\nachievements, pre\\n-MBA work experience\\n, \\nextracurricular accomplishments, essays\\n, interviews, or \\nrecommendation\\ns. Nor is there a common \\n\\ncareer goal or industry in which you can \\n\\naspire to work. What MBAs have in common is \\n\\nthey find opportunities to take initiative, they \\n\\nare motivated, have a strong awareness of \\n\\nthemselves, and have a desire to learn and \\n\\ngrow.\\n  \\nBusiness schools tend to focus on impact \\nmore than scale. Make sure, therefore, that the \\n\\nacademic and extracurricular choices you \\n\\nmake truly reflect your interests, demonstrate initiative, and give you opportunities to play a \\n\\nleadership role in the organization. A strong undergraduate academic record and GMAT (or \\n\\npossibly GRE) score are\\n also\\n important parts of your a\\npplication to business school. Many sc\\nhools \\nallow you to sit in on a class to gain insight into what a typical course looks like. Take advantage of \\n\\nthis opportunity!\\n Business schools look for leaders. In \\nwhat ways have you demonstrated \\ninitiative or translated a vision into a \\n\\nreality? Bear in mind that it™s not about \\n\\nthe size of your accomplishment, but the \\npassion with which you invest in and \\npursue your goals. \\n'"
      ]
     },
     "execution_count": 26,
     "metadata": {},
     "output_type": "execute_result"
    }
   ],
   "source": [
    "sample_page_text"
   ]
  },
  {
   "cell_type": "code",
   "execution_count": 4,
   "metadata": {},
   "outputs": [],
   "source": [
    "f.close()"
   ]
  },
  {
   "cell_type": "markdown",
   "metadata": {},
   "source": [
    "# 2.) Copy a single PDF and put this into a newly created PDF"
   ]
  },
  {
   "cell_type": "markdown",
   "metadata": {},
   "source": [
    "## 2.1) Read a page"
   ]
  },
  {
   "cell_type": "code",
   "execution_count": 5,
   "metadata": {},
   "outputs": [],
   "source": [
    "# Read a sample page\n",
    "f = open('Harvard_Business_School.pdf', 'rb')\n",
    "read_pdf = PdfFileReader(f)\n",
    "sample_page = read_pdf.getPage(4)"
   ]
  },
  {
   "cell_type": "markdown",
   "metadata": {},
   "source": [
    "## 2.2) Write a new page"
   ]
  },
  {
   "cell_type": "code",
   "execution_count": 6,
   "metadata": {},
   "outputs": [],
   "source": [
    "# Create a writer object\n",
    "write_pdf = PdfFileWriter()\n",
    "write_pdf.addPage(sample_page)"
   ]
  },
  {
   "cell_type": "markdown",
   "metadata": {},
   "source": [
    "## 2.3) Create a new PDF and link the new page to it"
   ]
  },
  {
   "cell_type": "code",
   "execution_count": 7,
   "metadata": {},
   "outputs": [],
   "source": [
    "# open a newly created file\n",
    "pdf_output = open('Test_01.pdf', 'wb')\n",
    "write_pdf.write(pdf_output)\n",
    "\n",
    "\n",
    "pdf_output.close() # Close the new file\n",
    "f.close() # close the source file"
   ]
  },
  {
   "cell_type": "markdown",
   "metadata": {},
   "source": [
    "# 3: Rotate PDFs and write them to a new PDF"
   ]
  },
  {
   "cell_type": "code",
   "execution_count": 8,
   "metadata": {},
   "outputs": [],
   "source": [
    "# Open the Source file\n",
    "f = open('Harvard_Business_School.pdf', 'rb')\n",
    "read_pdf = PdfFileReader(f)\n"
   ]
  },
  {
   "cell_type": "code",
   "execution_count": 9,
   "metadata": {},
   "outputs": [],
   "source": [
    "# Create a writer object\n",
    "write_pdf = PdfFileWriter()"
   ]
  },
  {
   "cell_type": "code",
   "execution_count": 10,
   "metadata": {},
   "outputs": [],
   "source": [
    "\n",
    "# Read a page and rotate it\n",
    "rotated_page = read_pdf.getPage(2).rotateClockwise(90)"
   ]
  },
  {
   "cell_type": "code",
   "execution_count": 11,
   "metadata": {},
   "outputs": [],
   "source": [
    "\n",
    "# Add the rotated page to the writer object\n",
    "write_pdf.addPage(rotated_page)"
   ]
  },
  {
   "cell_type": "code",
   "execution_count": 12,
   "metadata": {},
   "outputs": [],
   "source": [
    "\n",
    "# Save the writer object somewhere!\n",
    "pdf_output = open('Harvard_New_rotated.pdf', 'wb')\n",
    "write_pdf.write(pdf_output)"
   ]
  },
  {
   "cell_type": "code",
   "execution_count": 13,
   "metadata": {},
   "outputs": [],
   "source": [
    "#Close the new file and source file\n",
    "pdf_output.close()\n",
    "f.close() \n"
   ]
  },
  {
   "cell_type": "markdown",
   "metadata": {},
   "source": [
    "# 4.) Read multiple pages"
   ]
  },
  {
   "cell_type": "code",
   "execution_count": 23,
   "metadata": {},
   "outputs": [],
   "source": [
    "f = open('Harvard_Business_School.pdf', 'rb')\n",
    "read_pdf = PdfFileReader(f)\n",
    "\n",
    "\n"
   ]
  },
  {
   "cell_type": "code",
   "execution_count": 24,
   "metadata": {},
   "outputs": [
    {
     "data": {
      "text/plain": [
       "8"
      ]
     },
     "execution_count": 24,
     "metadata": {},
     "output_type": "execute_result"
    }
   ],
   "source": [
    "num_pages = read_pdf.numPages #count the number of pages and store it\n",
    "num_pages"
   ]
  },
  {
   "cell_type": "code",
   "execution_count": 25,
   "metadata": {},
   "outputs": [],
   "source": [
    "pdf_text_all = [] # Create an empty list to hold the data"
   ]
  },
  {
   "cell_type": "code",
   "execution_count": 26,
   "metadata": {},
   "outputs": [],
   "source": [
    "#store each page into the created list\n",
    "for page in range(num_pages): # same as range(8)\n",
    "    one_page_text = read_pdf.getPage(page).extractText()\n",
    "    pdf_text_all.append(one_page_text)"
   ]
  },
  {
   "cell_type": "code",
   "execution_count": 27,
   "metadata": {},
   "outputs": [
    {
     "data": {
      "text/plain": [
       "['Undergraduate Resource Series\\nO˜ce of Career Services | 54 Dunster Street     \\nHarvard University | Faculty of Arts and Sciences | 617.495.2595\\nwww.ocs.fas.harvard.edu\\nOCSAPPLYING  TO \\nBUSINESS  SCHOOLPhoto: Harvard University News O˜ce\\n',\n",
       " '© 201 President and Fellows of Harvard CollegeAll rights reserved.\\nNo part \\nof this publication may be reproduc\\ned in any wa\\ny without the express written \\npermission of the Harvard University Faculty of Arts & Sciences Office of Career Services.08/1O˜ce of Career Services\\nHarvard University\\n\\nFaculty of Arts & Sciences\\n\\nCambridge, MA 02138\\n\\nPhone: (617) 495-2595\\n\\nwww.ocs.fas.harvard.edu\\n',\n",
       " 'IS \\nBUSINESS \\nSCHOOL \\nRIGHT FOR \\nYOU?\\n Graduates of \\nMBA \\nprograms can be found in almost any type of organization. Business school will \\nprepare you to create or lead an organization, manage resources, develop effective operational \\nstrategies, and more. \\nOnce \\nadmitted, r\\nequired coursework typically include\\ns: Organizational \\nBehavior, Marketing, Accounting, Finance, Strategy\\n, \\nand Operations Management. This is followed \\nby elective coursework that allows the student to customize their experience. Some students \\n\\ncon\\nsider an MBA as essential for advancement to a management role while others will use it as a \\n\\nmeans to change careers. As an undergraduate student, it is unlikely that you will be admitted to \\n\\nenter directly into an MBA program without first working for a fe\\nw years. This period of \\n\\nemployment will give you time to think about your long term goals and help you determine if a \\n\\ngraduate degree is appropriate.\\n Informational \\nmeetings\\n Talking with\\n people (with or without MBAs) currently working in\\n field\\ns that inter\\nest you\\n can be \\nextremely helpful as you consider your \\nfuture career \\noptions.\\n Be sure to ask:\\n How is an \\nMBA viewed by the industry\\n?Will an MBA improve your chances of being hired and moving ahead\\n?If that person has an MBA, ask about their experience in the program they attended\\nWhat was most helpful for you as you prepared your application?\\nYour conversation can help you put into context how applicable the program will be to your career \\n\\ngoals. Also, speak with current students or those who have recently \\ncompleted an MBA program. \\nInquire about their experience in the program and how it has i\\nmpact\\ned their careers.\\n What should you do to prepare for business school?\\n There™s no magic formula for\\n the perfect undergraduate conce\\nntration\\n, set of academic \\nachievements, pre\\n-MBA work experience\\n, \\nextracurricular accomplishments, essays\\n, interviews, or \\nrecommendation\\ns. Nor is there a common \\n\\ncareer goal or industry in which you can \\n\\naspire to work. What MBAs have in common is \\n\\nthey find opportunities to take initiative, they \\n\\nare motivated, have a strong awareness of \\n\\nthemselves, and have a desire to learn and \\n\\ngrow.\\n  \\nBusiness schools tend to focus on impact \\nmore than scale. Make sure, therefore, that the \\n\\nacademic and extracurricular choices you \\n\\nmake truly reflect your interests, demonstrate initiative, and give you opportunities to play a \\n\\nleadership role in the organization. A strong undergraduate academic record and GMAT (or \\n\\npossibly GRE) score are\\n also\\n important parts of your a\\npplication to business school. Many sc\\nhools \\nallow you to sit in on a class to gain insight into what a typical course looks like. Take advantage of \\n\\nthis opportunity!\\n Business schools look for leaders. In \\nwhat ways have you demonstrated \\ninitiative or translated a vision into a \\n\\nreality? Bear in mind that it™s not about \\n\\nthe size of your accomplishment, but the \\npassion with which you invest in and \\npursue your goals. \\n',\n",
       " '   What can you do during the summer?\\n Summers provide you with opportunities to enhance the skills you™ll most likely want to \\nuse in your \\nwork, to explore various\\n industry options, and build \\nyour professional network. As with your \\nacademic and extracurricular choices, anything you do in the summer that adds value to your \\ncredibility as a leader or someone with a strong sense of i\\nnitiative will be useful to your candidacy \\nfor business school. That can be anything from starting a swim\\nming\\n program to teaching ESL.\\n   WHEN TO APPLY?\\n   Regular \\nadmissions\\n  Most undergraduates typically work for at least two years before applying to an MBA program.  \\nMany decide to apply only after knowing\\n: 1. That they \\nhave \\nhad enough career experience and insight to set practical goals\\n, and\\n 2. How their MBA investment would pay of\\nf personally and professionally.\\n Business\\n schools do not favor one industry over another for work experience, so look for \\nopportunities in an area that most interests you\\n, and\\n where you can demonstrate accomplishment \\nand leadership in that field.\\n  HBS 2+2 \\nis a deferred admissions program\\n that is unique to the Harvard Business School. \\nYou will\\n apply in\\n the spring of\\n your senior year\\n. If you are admitted, you are expected to work for\\n at least\\n two years prior to matriculation at HBS.\\n Please see the HBS 2+2 \\nwebsite (\\nwww.hbs.edu/2+2\\n) for \\nthe most up\\n-to\\n-date application information and deadlines. \\nOther schools including Yale and \\nStan\\nford also have programs that allow you to apply as an undergraduate (though each program \\nhas a unique structure and requirements).\\n    TIP:  \\nCONSULT \\nTHE OFFICIAL GMAT\\n®  WEB SITE\\n at \\nhttp://www.mba.com\\n, which \\noffers \\nexcellent advice about everything from evaluating business school as an option to your overall \\napplication strategy.\\n   Joint\\n-degree \\nprograms\\n  A joint or dual degree program is a full\\n-time MBA program that is combined with another full\\n-time \\ngraduate program of study\\n, such as\\n:   law \\n  medicine\\n  healthcare administration\\n  engineering\\n  technology\\n  international studies\\n  public policy\\n  dentistry\\n  You\\n must apply separately for each program. While\\n both programs are usually at the same school, \\nsome cooperative relationships between schools do exist. The second program determines total \\nprogram length, but joint degrees generally t\\nake three to four years to complete.\\n  ',\n",
       " 'Advantages\\n  Joint degree programs are most attractive to indivi\\nduals who want to work at the \\nintersection of both professions\\n. For example, an aspiring healthcare entrepreneur \\nmay \\nseek \\na joint degree for a career \\ndeveloping new healthcare resources or managing a \\nhealthcare organization.\\n  Students who want to make a career transition may like the fact that the joint or dual \\ndegree option allows them to earn two degrees faster than if they pursued the degrees \\nseparate\\nly, because some courses will fulfill requirements in both programs.\\n  Limitations\\n  Joint degrees require an extensive absence from the job market\\nŠusually three or more \\nyears.\\n Therefore, this may not be the best choice for those who plan to continue along a \\ncareer path and need to maintain current job skills and professional knowledge.\\n  Prospective employers may not have a clear understanding of why you chose to pursue \\neither or\\n both disciplines.\\n   WHAT IS THE APPLICAT\\nION PROCESS?\\n  Timeline \\n Most US business schools have three rounds of admissions deadlines\\n:  fall \\n(September/October)\\n  winter \\n(January/February)\\n  spring \\n(March/April)\\n Check each school™s admissions schedule\\n. When a deadline arrives, the admissions committee \\nreviews all complet\\ned applications submitted by\\n the deadline. All subsequent applications are held \\nuntil the next deadline, or ﬁround.ﬂ\\n Some business schools operate on a ﬁrollingﬂ calendar, \\nreview\\ning\\n applications as they arrive and continu\\ning\\n to admit students until all spaces have been \\nfilled.\\n   Researching programs and schools \\n There are over 1900 business schools offering more than 4500 programs worldwide. \\nTry \\nthese resources to help narrow the field:\\n   www.mba.com\\n The Graduate Management Admission Search Service® (GMASS®) \\ndeveloped by the Graduate Management Admissions Council. When you create an \\naccount on mba.com or when you take the GMAT exam, you™ll be asked if you want \\nbusiness schools to contact you. If you ch\\noose \"yes,\" then your information will be \\nentered into the GMASS search service database, so schools can find you. \\n  www.ocs.fas.harvard.edu/business\\n-school\\n  Tools on the OCS website to help you \\nevaluate MBA programs.\\n  https://www.usnews.com/best\\n-graduate\\n-schools\\n U.S. News and World Report\\n annual ranking of MBA programs\\n.  ',\n",
       " \"School rankings\\n Over the years, the media and MBA\\n program brochures have elevated the significance of business \\nschool rankings as one of the most important benchmarks for choosing \\na school to attend. However, \\nschool rankings often depend on which publication you read and what research methodology was \\nuse\\nd. In some cases, information is subjective and may include results that are not checked for \\naccuracy. \\nMost importantly\\n, rankings do not take into account the unique elements of certain \\nprograms and how these attributes might meet your individual needs. \\nRankings tell you what \\nschools are ﬁbestﬂ but do not take into account ﬁbest fit.ﬂ\\n    Admissions testing\\n Most MBA programs require at least one graduate admissions test score. \\n  www.mba.com\\n Graduate Management Admissio\\nns Test (GMAT\\n®)  www.ets.org\\n Graduate Record\\n Exam\\ninations\\n (GRE)\\n Consult the individual school website for requirements. Many graduating seniors complete their \\ngraduate school admissions test during their senior year when they are most comfortable with \\ntesting and have the flexibility to adequately prepare. \\nMost applica\\nnts prepare on their own using \\none of the test\\n-preparation publications available at most bookstores or on the test website.\\n  Essays and \\npersonal \\nstatements \\n Most business schools require one or more essays in their application.  Essay prompts may include \\na range of subjects such as \\nleadership, long\\n-term career goals, professional \\naccomplishments\\n, and \\ncommunity engagement\\n. When preparing your essays, \\nmake sure that together they tell one story\\n.  \\nYou, as the candidate\\n, are the story. Your essays should refle\\nct different aspects of your character, \\naccomplishments and aspirations that will allow the admissions committee to know you better. \\n   Write to express, not impress.\\n Admissions professionals can tell when you™re\\n just writ\\ning \\nwhat you think they want to \\nread\\n. If you™ve done your homework, you know why you want \\nan MBA degree and how that fits into your overall career game plan.\\n  What will you bring to the classroom?\\n Being part of a business school community is a \\ngive\\n-and\\n-take proposition. It™s not only about what you can gain from business school, it™s \\nalso about what you™re willing to share. Candidates are often judged by what value they can \\nbring to the classroom a\\nnd the community experience\\n, in addition to\\n how well they match \\nentrance requirements.\\n  Why this school?\\n Much like applying for a job, know why you want to pursue an MBA at a \\nparticular school or program. Show that you are familiar with the given school and\\n why you \\nare a good fit. \\n  Reality check: Is this the right time for you?\\n You™re going to business school to advance \\nyour career, right? Your job success as an MBA graduate may rely to a large extent on what \\nyou did beforehand. Find out what MBA employers l\\nook for in candidates by talking to \\nstudents, alumni and the school™s career \\nservices \\noffice. If you don't have enough experience \\nright now to benefit fully from an MBA, further define your goals and apply later.\\n  \",\n",
       " 'Letters of \\nrecommendation\\n  A recommendati\\non letter needs to\\n: 1. Support how well you can manage the academic demands of the MBA program and your \\npotential to succeed in your chosen career\\n. 2. Validate or expand on your credentials, strengths, and aspirations\\n. 3. Help\\n the admissions office to\\n get an overall \\nsense\\n of \\nyou as a\\n candidate\\n.  Choose a good cross\\n-sect\\nion of people who can attest to \\nyour dependability and who know about \\nyour plans for MBA study, such as \\nemployers, colleagues, and faculty\\n. Schools may have different \\nre\\ncommendation\\n requirement\\ns. Check with each school you are applying to before you select your \\nre\\ncommender\\ns. Each program requires a specific number of recommendation letters, usually two \\nor three. \\nDon™t exceed that number without prior agreement from the admissions staff\\n. Recommen\\ndations are valuable only if they reflect relevant professional skills. Avoid getting letters \\nfrom people with important\\n-sounding job titles who do not know you or your work.\\n   Resume\\n  There is not a special format for your resume when applying to business\\n school. Use the OCS \\nresume templates on the OCS website as your guideline. Make sure to emphasize your leadership \\nexperience as well as your analytical and quantitative aptitude.\\n  Interviews \\n Many schools conduct admissions interviews\\n and most offer advic\\ne about how to prepare on their \\nAdmissions website. Each program varies in format and location of the interview. Generally, an \\nadmissions interview provides an opportunity for you to review your accomplishments relative to \\nyour interest in the program.\\n  Financial \\naid You can find information about determining the ﬁreal costﬂ of your MBA as well as financial aid \\nresources at the official GMAT website at \\nwww.mba.com\\n.  In general, financial aid may be available \\nto you thr\\nough grants and scholarships, loans\\n, and Federal Work Study. In some cases, pre\\n-MBA \\nemployers may offer to re\\n-pay all or a portion of the cost of your program once you return to work \\nfor them. T\\notal costs including tuition, room/board\\n, and fees can range from $90,000 to \\nover \\n$110\\n,000 per year. \\n      ',\n",
       " 'PRE\\n-MBA CHECKLIST\\n  Learn on the \\njob  Ask yourself if you would genuinely enjoy working in a management\\n-related role in that \\nindustry.\\n  During your summer internship(s), take time to talk with \\nsenior managers and ask about their \\nbackgrounds.\\n  Identify mentors who have completed an MBA program and ask how their program influenced \\ntheir career.\\n  Learn about \\nyourself\\n  Read the \\nWall Street Journal, Business Week\\n, Harvard Business Review\\n, or \\nother \\nindu\\nstry\\n-specific \\npublication\\ns regularly to assess your level of interest.\\n  Connect with people in the industry or career field you hope to pursue as a way of gaining \\nknowledge about the field and learning more about post\\n-graduate options.\\n  Assess how your day\\n-to-day activities are different on the job compared to school to help you \\ndecide which lifestyle you prefer for the next few years.\\n  Visit and \\nevaluate \\nschools\\n  Visit som\\ne of the business programs \\nyou are considering\\nŠjust like when you were applying to \\ncollege.\\n In some cases, programs also offer the opportunity to sit in on a class.\\n  Talk to students who are currently in the program as well as the school™s career services office \\nto find out what they do for their graduates while on your visit.\\n  Learn about\\n what differentiates programs. Some may feature a specific teaching style or put \\ngreater emphasis on one aspect of the curriculum such as finance, management, or \\nentrepreneurship.\\n  Test \\npreparation and s\\ncheduling\\n Most students report that they prepare for \\ngraduate school tests on their own. In general, we \\nsuggest that you:\\n  Give yourself time to adequately prepare and, if necessary, freshen up your math skills.\\n  Download the free GMATPrep® \\nor GRE t\\nest \\npreparation \\nsoftware available on their respective \\nwebsite\\ns.  Purchase a test prep book, review the questions you will be asked and complete multiple \\npractice tests.\\n  Application p\\nreparation\\n  Your application essays enable the admissions committee to fully understand your strengths as \\na candidate as well as your career strategy for pursuing an MBA. \\n  Ask your mentors and professional advisors to read them to assess how clearly you present \\nyour c\\nandidacy once you \\ncomplete a draft for each essay\\n.  Have your resume reviewed, including your most up\\n-to\\n-date information\\n.  It™s important to bear in mind that you are a ﬁprospective customerﬂ as well as an applicant. Don™t \\nbe afraid to ask questions to ens\\nure that you make an informed decision about which program you \\nultimately choose according to your academic, career\\n, and educational community needs! \\n  ']"
      ]
     },
     "execution_count": 27,
     "metadata": {},
     "output_type": "execute_result"
    }
   ],
   "source": [
    "pdf_text_all # Every single page summarized in a list!"
   ]
  },
  {
   "cell_type": "markdown",
   "metadata": {},
   "source": [
    "# 5.) Merge two PDFs"
   ]
  },
  {
   "cell_type": "code",
   "execution_count": 28,
   "metadata": {},
   "outputs": [],
   "source": [
    "from PyPDF2 import PdfFileWriter, PdfFileReader"
   ]
  },
  {
   "cell_type": "code",
   "execution_count": 29,
   "metadata": {},
   "outputs": [],
   "source": [
    "# Open watermark\n",
    "f = open('watermark_conf_2.pdf', 'rb')\n",
    "read_watermark = PdfFileReader(f)\n",
    "watermark_page = read_watermark.getPage(0)"
   ]
  },
  {
   "cell_type": "code",
   "execution_count": 30,
   "metadata": {},
   "outputs": [],
   "source": [
    "# Open file to be watermarked\n",
    "f = open('Harvard_Business_School.pdf', 'rb')\n",
    "read_pdf = PdfFileReader(f)"
   ]
  },
  {
   "cell_type": "code",
   "execution_count": 31,
   "metadata": {},
   "outputs": [],
   "source": [
    "# Create a writer object\n",
    "write_pdf = PdfFileWriter()"
   ]
  },
  {
   "cell_type": "code",
   "execution_count": 32,
   "metadata": {},
   "outputs": [],
   "source": [
    "# watermark all pages\n",
    "num_pages = read_pdf.getNumPages()\n",
    "for page in range(num_pages):\n",
    "    single_page = read_pdf.getPage(page)\n",
    "    single_page.mergePage(watermark_page)\n",
    "    write_pdf.addPage(single_page)"
   ]
  },
  {
   "cell_type": "code",
   "execution_count": 33,
   "metadata": {},
   "outputs": [],
   "source": [
    "# Save the writer object somewhere!\n",
    "pdf_output = open('Harvard_watermarked.pdf', 'wb')\n",
    "write_pdf.write(pdf_output)"
   ]
  },
  {
   "cell_type": "code",
   "execution_count": 34,
   "metadata": {},
   "outputs": [],
   "source": [
    "pdf_output.close() # Close the new file\n",
    "f.close() # Close the new file    "
   ]
  },
  {
   "cell_type": "code",
   "execution_count": null,
   "metadata": {},
   "outputs": [],
   "source": []
  }
 ],
 "metadata": {
  "kernelspec": {
   "display_name": "Python 3",
   "language": "python",
   "name": "python3"
  },
  "language_info": {
   "codemirror_mode": {
    "name": "ipython",
    "version": 3
   },
   "file_extension": ".py",
   "mimetype": "text/x-python",
   "name": "python",
   "nbconvert_exporter": "python",
   "pygments_lexer": "ipython3",
   "version": "3.6.8"
  },
  "varInspector": {
   "cols": {
    "lenName": 16,
    "lenType": 16,
    "lenVar": 40
   },
   "kernels_config": {
    "python": {
     "delete_cmd_postfix": "",
     "delete_cmd_prefix": "del ",
     "library": "var_list.py",
     "varRefreshCmd": "print(var_dic_list())"
    },
    "r": {
     "delete_cmd_postfix": ") ",
     "delete_cmd_prefix": "rm(",
     "library": "var_list.r",
     "varRefreshCmd": "cat(var_dic_list()) "
    }
   },
   "types_to_exclude": [
    "module",
    "function",
    "builtin_function_or_method",
    "instance",
    "_Feature"
   ],
   "window_display": false
  },
  "widgets": {
   "state": {},
   "version": "1.1.2"
  }
 },
 "nbformat": 4,
 "nbformat_minor": 2
}
